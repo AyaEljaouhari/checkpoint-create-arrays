{
  "nbformat": 4,
  "nbformat_minor": 0,
  "metadata": {
    "colab": {
      "provenance": []
    },
    "kernelspec": {
      "name": "python3",
      "display_name": "Python 3"
    },
    "language_info": {
      "name": "python"
    }
  },
  "cells": [
    {
      "cell_type": "code",
      "execution_count": null,
      "metadata": {
        "id": "aD43JTJSuNH8"
      },
      "outputs": [],
      "source": [
        "\"\"\"Question 1\n",
        "\n",
        "Write a Python program to convert an array to an ordinary list with the same items.\n",
        "\n",
        "We can use the np.tolist() function\"\"\""
      ]
    },
    {
      "cell_type": "code",
      "source": [
        "import numpy as np\n",
        "\n",
        "arr1=np.array([1,2,3])\n",
        "list1=arr1.tolist()\n",
        "print(list1)"
      ],
      "metadata": {
        "colab": {
          "base_uri": "https://localhost:8080/"
        },
        "id": "k9CkdnA_uaBN",
        "outputId": "1430c455-ad3b-4455-f579-493b71ac8fd2"
      },
      "execution_count": 1,
      "outputs": [
        {
          "output_type": "stream",
          "name": "stdout",
          "text": [
            "[1, 2, 3]\n"
          ]
        }
      ]
    },
    {
      "cell_type": "code",
      "source": [
        "\"\"\"Question 2 \n",
        "\n",
        "Write a NumPy program to compute the sum of the diagonal elements of a given array.\n",
        "\n",
        "Hint: There are two possible methods to solve this problem: \n",
        "\n",
        "Manually (without direct function). \n",
        "Using the trace function\"\"\""
      ],
      "metadata": {
        "id": "9I3rI6V1uaXu"
      },
      "execution_count": null,
      "outputs": []
    },
    {
      "cell_type": "code",
      "source": [
        "import numpy as np\n",
        "\n",
        "n_array=np.array([[10,20,30],\n",
        "                 [35,18,26],\n",
        "                 [18,60,43]])\n",
        "\n",
        "print(\"numpy matrix is :\")\n",
        "print(n_array)\n",
        "\n",
        "trace = np.trace(n_array)\n",
        "\n",
        "print(trace)\n"
      ],
      "metadata": {
        "colab": {
          "base_uri": "https://localhost:8080/"
        },
        "id": "4asrgtNMufbo",
        "outputId": "a0f59a8b-7b1d-4f84-cf55-8f673ff3a5bb"
      },
      "execution_count": 4,
      "outputs": [
        {
          "output_type": "stream",
          "name": "stdout",
          "text": [
            "numpy matrix is :\n",
            "[[10 20 30]\n",
            " [35 18 26]\n",
            " [18 60 43]]\n",
            "71\n"
          ]
        }
      ]
    },
    {
      "cell_type": "code",
      "source": [
        "\"\"\"Question 3\n",
        "\n",
        "Given an array of your choice, get all the values higher than X:\n",
        "\n",
        "If a = [[1,2],[3,5]] and x = 2 :  then 3 and 5 are higher than 2\"\"\""
      ],
      "metadata": {
        "id": "QIdjNBArufoa"
      },
      "execution_count": null,
      "outputs": []
    },
    {
      "cell_type": "code",
      "source": [
        "import numpy as np\n",
        "x = np.array([[1,2],[3,5]])\n",
        "print(\"Original array: \")\n",
        "print(x)\n",
        "print(\"Values bigger than 2 =\", x[x>2])\n",
        "print(\"Their indices are \", np.nonzero(x > 2))"
      ],
      "metadata": {
        "colab": {
          "base_uri": "https://localhost:8080/"
        },
        "id": "4reVoIKFulec",
        "outputId": "81b4b161-dd51-4631-8da7-afd0cab6b971"
      },
      "execution_count": 5,
      "outputs": [
        {
          "output_type": "stream",
          "name": "stdout",
          "text": [
            "Original array: \n",
            "[[1 2]\n",
            " [3 5]]\n",
            "Values bigger than 2 = [3 5]\n",
            "Their indices are  (array([1, 1]), array([0, 1]))\n"
          ]
        }
      ]
    },
    {
      "cell_type": "code",
      "source": [
        "\"\"\"Question 4\n",
        "\n",
        "Given two arrays, A & B have the same shape. \n",
        "\n",
        "The task is to apply addition by hand: C is the new array\"\"\""
      ],
      "metadata": {
        "id": "ko0TC_Acumgy"
      },
      "execution_count": null,
      "outputs": []
    },
    {
      "cell_type": "code",
      "source": [
        "import numpy as np\n",
        "A = np.array([4, 10, 20])\n",
        "B = np.array([4, 10, 20])\n",
        "A + B\n"
      ],
      "metadata": {
        "colab": {
          "base_uri": "https://localhost:8080/"
        },
        "id": "uPD0X5Uwuso5",
        "outputId": "5348bd57-55a4-4d8b-a82a-cca055acd772"
      },
      "execution_count": 8,
      "outputs": [
        {
          "output_type": "execute_result",
          "data": {
            "text/plain": [
              "array([ 8, 20, 40])"
            ]
          },
          "metadata": {},
          "execution_count": 8
        }
      ]
    },
    {
      "cell_type": "code",
      "source": [
        "\"\"\"Question 5\n",
        "\n",
        "Write a NumPy program to subtract the mean of each row of a given matrix.\n",
        "\n",
        "Hint: use the mean function\"\"\""
      ],
      "metadata": {
        "id": "uhV-6A--utgW"
      },
      "execution_count": null,
      "outputs": []
    },
    {
      "cell_type": "code",
      "source": [
        "import numpy as np\n",
        "print(\"Original matrix:\\n\")\n",
        "X = np.random.rand(1, 2)\n",
        "print(X)\n",
        "print(\"\\nSubtract the mean of each row of the said matrix:\\n\")\n",
        "Y = X - X.mean(axis=1, keepdims=True)\n",
        "print(Y)\n"
      ],
      "metadata": {
        "colab": {
          "base_uri": "https://localhost:8080/"
        },
        "id": "90KNtrGrutsW",
        "outputId": "7f879238-7305-4a70-af1e-f3140bc2f1d1"
      },
      "execution_count": 10,
      "outputs": [
        {
          "output_type": "stream",
          "name": "stdout",
          "text": [
            "Original matrix:\n",
            "\n",
            "[[0.88171458 0.31838237]]\n",
            "\n",
            "Subtract the mean of each row of the said matrix:\n",
            "\n",
            "[[ 0.28166611 -0.28166611]]\n"
          ]
        }
      ]
    },
    {
      "cell_type": "code",
      "source": [
        "import numpy as np\n",
        "\n",
        "a = np.random.rand(3, 4)\n",
        "print(a)\n",
        "\n",
        "\"\"\"array size is 3x4\"\"\"\n",
        "\n",
        "b = a - a.mean(axis=1, keepdims=True)\n",
        "print(b)"
      ],
      "metadata": {
        "colab": {
          "base_uri": "https://localhost:8080/"
        },
        "id": "lQ56fj_breLj",
        "outputId": "55c7416e-6044-430a-98db-d64534e6d729"
      },
      "execution_count": 1,
      "outputs": [
        {
          "output_type": "stream",
          "name": "stdout",
          "text": [
            "[[0.05136269 0.1851336  0.62848979 0.36717673]\n",
            " [0.46577613 0.44135563 0.19564136 0.82582214]\n",
            " [0.94696529 0.05074712 0.57038692 0.31512955]]\n",
            "[[-0.25667801 -0.1229071   0.32044909  0.05913603]\n",
            " [-0.01637268 -0.04079319 -0.28650745  0.34367332]\n",
            " [ 0.47615807 -0.4200601   0.0995797  -0.15567767]]\n"
          ]
        }
      ]
    }
  ]
}